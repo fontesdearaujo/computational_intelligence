{
  "nbformat": 4,
  "nbformat_minor": 0,
  "metadata": {
    "colab": {
      "name": "IApraSAUDE.ipynb",
      "provenance": [],
      "authorship_tag": "ABX9TyMV0kLTEc4kLW+uLw4Tifsb",
      "include_colab_link": true
    },
    "kernelspec": {
      "name": "python3",
      "display_name": "Python 3"
    }
  },
  "cells": [
    {
      "cell_type": "markdown",
      "metadata": {
        "id": "view-in-github",
        "colab_type": "text"
      },
      "source": [
        "<a href=\"https://colab.research.google.com/github/isabelafaraujo/computational_intelligence/blob/master/IApraSAUDE.ipynb\" target=\"_parent\"><img src=\"https://colab.research.google.com/assets/colab-badge.svg\" alt=\"Open In Colab\"/></a>"
      ]
    },
    {
      "cell_type": "markdown",
      "metadata": {
        "id": "u5mtaEmFQ2xv",
        "colab_type": "text"
      },
      "source": [
        "Revisão de comandos básicos de Python \n"
      ]
    },
    {
      "cell_type": "code",
      "metadata": {
        "id": "6fwrPqOHDmvx",
        "colab_type": "code",
        "colab": {}
      },
      "source": [
        "#strings \n",
        "\n",
        "texto = \"Uso 'de aspas'\"\n",
        "\n",
        "#slicing\n",
        "texto[:10] #tudo até o 10\n",
        "texto[10:] #tudo depois do 10\n",
        "\n",
        "\"Palavra\" == \"palavra\" #false \n",
        "\"Palavra\".lower() == \"palavra\".lower() #true\n",
        "\n",
        "texto.split() #separa por espaço\n",
        "texto.split('s') #separa pelo parâmetro\n",
        "texto.split() \n",
        "\n",
        "texto_espacado = \"        teste de frease   \"\n",
        "texto_espacado.strip() #\"pré processamento\"\n",
        "\n",
        "#fstring\n",
        "altura = 1.56\n",
        "print(f'Minha altura é altura {altura}') #{} para variável\n",
        "print('Minha altura é altura {altura}')"
      ],
      "execution_count": null,
      "outputs": []
    },
    {
      "cell_type": "markdown",
      "metadata": {
        "id": "KlvIZyttQ7iy",
        "colab_type": "text"
      },
      "source": [
        "Revisão de lista"
      ]
    },
    {
      "cell_type": "code",
      "metadata": {
        "id": "BX1YewzaQ9mm",
        "colab_type": "code",
        "colab": {
          "base_uri": "https://localhost:8080/",
          "height": 54
        },
        "outputId": "7c4145d8-7ffe-4a46-b615-2ffbee9d9f73"
      },
      "source": [
        "lista = [1,2,5,10,60,999]\n",
        "lista[1:3] #último número é um valor aberto\n",
        "len(lista)\n",
        "lista.reverse() #muda a própria lista\n",
        "#print(lista) \n",
        "lista.count(10)#conta quantos itens desse tem na lista"
      ],
      "execution_count": 22,
      "outputs": [
        {
          "output_type": "stream",
          "text": [
            "[999, 60, 10, 5, 2, 1]\n"
          ],
          "name": "stdout"
        },
        {
          "output_type": "execute_result",
          "data": {
            "text/plain": [
              "1"
            ]
          },
          "metadata": {
            "tags": []
          },
          "execution_count": 22
        }
      ]
    }
  ]
}