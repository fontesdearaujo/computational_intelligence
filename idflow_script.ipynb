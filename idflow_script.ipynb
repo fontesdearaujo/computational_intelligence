{
  "nbformat": 4,
  "nbformat_minor": 0,
  "metadata": {
    "colab": {
      "name": "idflow_script.ipynb",
      "provenance": [],
      "collapsed_sections": [],
      "include_colab_link": true
    },
    "kernelspec": {
      "name": "python3",
      "display_name": "Python 3"
    }
  },
  "cells": [
    {
      "cell_type": "markdown",
      "metadata": {
        "id": "view-in-github",
        "colab_type": "text"
      },
      "source": [
        "<a href=\"https://colab.research.google.com/github/fontesdearaujo/computational_intelligence/blob/master/idflow_script.ipynb\" target=\"_parent\"><img src=\"https://colab.research.google.com/assets/colab-badge.svg\" alt=\"Open In Colab\"/></a>"
      ]
    },
    {
      "cell_type": "code",
      "metadata": {
        "id": "BO34MK6lRkuT",
        "colab_type": "code",
        "outputId": "65a97aba-6508-43db-e8b8-ba1eeeffdbae",
        "colab": {
          "base_uri": "https://localhost:8080/",
          "height": 129
        }
      },
      "source": [
        "from google.colab import drive\n",
        "\n",
        "drive.mount('/content/drive')"
      ],
      "execution_count": 0,
      "outputs": [
        {
          "output_type": "stream",
          "text": [
            "Go to this URL in a browser: https://accounts.google.com/o/oauth2/auth?client_id=947318989803-6bn6qk8qdgf4n4g3pfee6491hc0brc4i.apps.googleusercontent.com&redirect_uri=urn%3aietf%3awg%3aoauth%3a2.0%3aoob&response_type=code&scope=email%20https%3a%2f%2fwww.googleapis.com%2fauth%2fdocs.test%20https%3a%2f%2fwww.googleapis.com%2fauth%2fdrive%20https%3a%2f%2fwww.googleapis.com%2fauth%2fdrive.photos.readonly%20https%3a%2f%2fwww.googleapis.com%2fauth%2fpeopleapi.readonly\n",
            "\n",
            "Enter your authorization code:\n",
            "··········\n",
            "Mounted at /content/drive\n"
          ],
          "name": "stdout"
        }
      ]
    },
    {
      "cell_type": "code",
      "metadata": {
        "id": "isTVL3jsSEZ5",
        "colab_type": "code",
        "colab": {}
      },
      "source": [
        "import pandas as pd\n",
        "import numpy as np\n",
        "\n",
        "file = '/content/drive/My Drive/PBI - IDFlow HCFMUSP/Dados Excel/maio/Jornada_HC_Maio.xlsx' #abrir file\n",
        "table = pd.read_excel(file) #ler file xlsx\n",
        "table = df.drop(df[df.tempo == 0].index) #retirar os 0\n",
        "table.drop_duplicates(subset =[\"nome_paciente\",\"nome_setor\"], keep = 'last', inplace = True) \n",
        "table.to_excel (r'/content/drive/My Drive/PBI - IDFlow HCFMUSP/Dados Excel/maio/Jornada_HC_Maio_treatment.xlsx', index = False, header=True)"
      ],
      "execution_count": 0,
      "outputs": []
    }
  ]
}