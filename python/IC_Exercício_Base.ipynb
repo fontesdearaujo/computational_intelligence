{
  "nbformat": 4,
  "nbformat_minor": 0,
  "metadata": {
    "colab": {
      "name": "IC_Exercício_Base.ipynb",
      "provenance": [],
      "collapsed_sections": [
        "jPyuOA8WTE6n",
        "jcuHFlUFUaIb"
      ],
      "include_colab_link": true
    },
    "kernelspec": {
      "name": "python3",
      "display_name": "Python 3"
    }
  },
  "cells": [
    {
      "cell_type": "markdown",
      "metadata": {
        "id": "view-in-github",
        "colab_type": "text"
      },
      "source": [
        "<a href=\"https://colab.research.google.com/github/fontesdearaujo/computational_intelligence/blob/master/IC_Exerc%C3%ADcio_Base.ipynb\" target=\"_parent\"><img src=\"https://colab.research.google.com/assets/colab-badge.svg\" alt=\"Open In Colab\"/></a>"
      ]
    },
    {
      "cell_type": "markdown",
      "metadata": {
        "id": "_H3DrdJyVFHj",
        "colab_type": "text"
      },
      "source": [
        "##Exercício de Visualização de Dados da IGN"
      ]
    },
    {
      "cell_type": "code",
      "metadata": {
        "id": "DpVWWMOwPhFN",
        "colab_type": "code",
        "outputId": "8e6d4d71-af55-4a39-bd91-640593978e90",
        "colab": {
          "base_uri": "https://localhost:8080/",
          "height": 361
        }
      },
      "source": [
        "import numpy as np\n",
        "import pandas as pd\n",
        "import matplotlib.pyplot as plt\n",
        "\n",
        "ign = pd.read_csv('https://www.dataquest.io/wp-content/uploads/2019/09/ign.csv')\n",
        "ign.head()"
      ],
      "execution_count": 0,
      "outputs": [
        {
          "output_type": "execute_result",
          "data": {
            "text/html": [
              "<div>\n",
              "<style scoped>\n",
              "    .dataframe tbody tr th:only-of-type {\n",
              "        vertical-align: middle;\n",
              "    }\n",
              "\n",
              "    .dataframe tbody tr th {\n",
              "        vertical-align: top;\n",
              "    }\n",
              "\n",
              "    .dataframe thead th {\n",
              "        text-align: right;\n",
              "    }\n",
              "</style>\n",
              "<table border=\"1\" class=\"dataframe\">\n",
              "  <thead>\n",
              "    <tr style=\"text-align: right;\">\n",
              "      <th></th>\n",
              "      <th>Unnamed: 0</th>\n",
              "      <th>score_phrase</th>\n",
              "      <th>title</th>\n",
              "      <th>url</th>\n",
              "      <th>platform</th>\n",
              "      <th>score</th>\n",
              "      <th>genre</th>\n",
              "      <th>editors_choice</th>\n",
              "      <th>release_year</th>\n",
              "      <th>release_month</th>\n",
              "      <th>release_day</th>\n",
              "    </tr>\n",
              "  </thead>\n",
              "  <tbody>\n",
              "    <tr>\n",
              "      <th>0</th>\n",
              "      <td>0</td>\n",
              "      <td>Amazing</td>\n",
              "      <td>LittleBigPlanet PS Vita</td>\n",
              "      <td>/games/littlebigplanet-vita/vita-98907</td>\n",
              "      <td>PlayStation Vita</td>\n",
              "      <td>9.0</td>\n",
              "      <td>Platformer</td>\n",
              "      <td>Y</td>\n",
              "      <td>2012</td>\n",
              "      <td>9</td>\n",
              "      <td>12</td>\n",
              "    </tr>\n",
              "    <tr>\n",
              "      <th>1</th>\n",
              "      <td>1</td>\n",
              "      <td>Amazing</td>\n",
              "      <td>LittleBigPlanet PS Vita -- Marvel Super Hero E...</td>\n",
              "      <td>/games/littlebigplanet-ps-vita-marvel-super-he...</td>\n",
              "      <td>PlayStation Vita</td>\n",
              "      <td>9.0</td>\n",
              "      <td>Platformer</td>\n",
              "      <td>Y</td>\n",
              "      <td>2012</td>\n",
              "      <td>9</td>\n",
              "      <td>12</td>\n",
              "    </tr>\n",
              "    <tr>\n",
              "      <th>2</th>\n",
              "      <td>2</td>\n",
              "      <td>Great</td>\n",
              "      <td>Splice: Tree of Life</td>\n",
              "      <td>/games/splice/ipad-141070</td>\n",
              "      <td>iPad</td>\n",
              "      <td>8.5</td>\n",
              "      <td>Puzzle</td>\n",
              "      <td>N</td>\n",
              "      <td>2012</td>\n",
              "      <td>9</td>\n",
              "      <td>12</td>\n",
              "    </tr>\n",
              "    <tr>\n",
              "      <th>3</th>\n",
              "      <td>3</td>\n",
              "      <td>Great</td>\n",
              "      <td>NHL 13</td>\n",
              "      <td>/games/nhl-13/xbox-360-128182</td>\n",
              "      <td>Xbox 360</td>\n",
              "      <td>8.5</td>\n",
              "      <td>Sports</td>\n",
              "      <td>N</td>\n",
              "      <td>2012</td>\n",
              "      <td>9</td>\n",
              "      <td>11</td>\n",
              "    </tr>\n",
              "    <tr>\n",
              "      <th>4</th>\n",
              "      <td>4</td>\n",
              "      <td>Great</td>\n",
              "      <td>NHL 13</td>\n",
              "      <td>/games/nhl-13/ps3-128181</td>\n",
              "      <td>PlayStation 3</td>\n",
              "      <td>8.5</td>\n",
              "      <td>Sports</td>\n",
              "      <td>N</td>\n",
              "      <td>2012</td>\n",
              "      <td>9</td>\n",
              "      <td>11</td>\n",
              "    </tr>\n",
              "  </tbody>\n",
              "</table>\n",
              "</div>"
            ],
            "text/plain": [
              "   Unnamed: 0 score_phrase  ... release_month release_day\n",
              "0           0      Amazing  ...             9          12\n",
              "1           1      Amazing  ...             9          12\n",
              "2           2        Great  ...             9          12\n",
              "3           3        Great  ...             9          11\n",
              "4           4        Great  ...             9          11\n",
              "\n",
              "[5 rows x 11 columns]"
            ]
          },
          "metadata": {
            "tags": []
          },
          "execution_count": 1
        }
      ]
    },
    {
      "cell_type": "markdown",
      "metadata": {
        "id": "i8_GVojTP-EJ",
        "colab_type": "text"
      },
      "source": [
        "Como você pode ver acima, cada linha do arquivo representa um único jogo que foi revisado pelo IGN. As colunas contêm informações sobre esse jogo:\n",
        "\n",
        "1. **score_phrase** — como a IGN descreveu o jogo em uma palavra. Isso está vinculado à pontuação recebida.\n",
        "2. **title** — o nome do jogo. \n",
        "3. **url** - o URL onde você pode ver a revisão completa.\n",
        "4. **platform** — a plataforma em que o jogo foi revisado (PC, PS4, etc)\n",
        "5. **score** — a pontuação do jogo, de 1.0 a 10.0.\n",
        "6. **genre** — o gênero do jogo.\n",
        "7. **editors_choice** — N se o jogo não foi uma escolha do editor, Y se foi. Isso está vinculado à pontuação.\n",
        "8. **release_year** — o ano em que o jogo foi lançado.\n",
        "9. **release_month** — o mês em que o jogo foi lançado.\n",
        "10. **release_day** — o dia em que o jogo foi lançado.\n",
        "\n",
        "Há também uma coluna principal que contém valores de índice de linha. Podemos ignorar com segurança esta coluna."
      ]
    },
    {
      "cell_type": "markdown",
      "metadata": {
        "id": "iuYb68MwQ34F",
        "colab_type": "text"
      },
      "source": [
        "#DICA \n",
        "\n",
        "Abuse das labels para retornar dados."
      ]
    },
    {
      "cell_type": "code",
      "metadata": {
        "id": "Bb8gFGDHP_Nn",
        "colab_type": "code",
        "outputId": "dcc65a01-7671-485a-e22a-b8af0aa95f81",
        "colab": {
          "base_uri": "https://localhost:8080/",
          "height": 233
        }
      },
      "source": [
        "ign.loc[:5,[\"score\", \"release_year\"]]"
      ],
      "execution_count": 0,
      "outputs": [
        {
          "output_type": "execute_result",
          "data": {
            "text/html": [
              "<div>\n",
              "<style scoped>\n",
              "    .dataframe tbody tr th:only-of-type {\n",
              "        vertical-align: middle;\n",
              "    }\n",
              "\n",
              "    .dataframe tbody tr th {\n",
              "        vertical-align: top;\n",
              "    }\n",
              "\n",
              "    .dataframe thead th {\n",
              "        text-align: right;\n",
              "    }\n",
              "</style>\n",
              "<table border=\"1\" class=\"dataframe\">\n",
              "  <thead>\n",
              "    <tr style=\"text-align: right;\">\n",
              "      <th></th>\n",
              "      <th>score</th>\n",
              "      <th>release_year</th>\n",
              "    </tr>\n",
              "  </thead>\n",
              "  <tbody>\n",
              "    <tr>\n",
              "      <th>0</th>\n",
              "      <td>9.0</td>\n",
              "      <td>2012</td>\n",
              "    </tr>\n",
              "    <tr>\n",
              "      <th>1</th>\n",
              "      <td>9.0</td>\n",
              "      <td>2012</td>\n",
              "    </tr>\n",
              "    <tr>\n",
              "      <th>2</th>\n",
              "      <td>8.5</td>\n",
              "      <td>2012</td>\n",
              "    </tr>\n",
              "    <tr>\n",
              "      <th>3</th>\n",
              "      <td>8.5</td>\n",
              "      <td>2012</td>\n",
              "    </tr>\n",
              "    <tr>\n",
              "      <th>4</th>\n",
              "      <td>8.5</td>\n",
              "      <td>2012</td>\n",
              "    </tr>\n",
              "    <tr>\n",
              "      <th>5</th>\n",
              "      <td>7.0</td>\n",
              "      <td>2012</td>\n",
              "    </tr>\n",
              "  </tbody>\n",
              "</table>\n",
              "</div>"
            ],
            "text/plain": [
              "   score  release_year\n",
              "0    9.0          2012\n",
              "1    9.0          2012\n",
              "2    8.5          2012\n",
              "3    8.5          2012\n",
              "4    8.5          2012\n",
              "5    7.0          2012"
            ]
          },
          "metadata": {
            "tags": []
          },
          "execution_count": 2
        }
      ]
    },
    {
      "cell_type": "markdown",
      "metadata": {
        "id": "ARoz1S7SREua",
        "colab_type": "text"
      },
      "source": [
        "#Exercícios"
      ]
    },
    {
      "cell_type": "markdown",
      "metadata": {
        "id": "OgFlNqvqRW7A",
        "colab_type": "text"
      },
      "source": [
        "##Ex.1 \n",
        "Qual a plataforma com melhores jogos segundo a IGN ?\n",
        "Faça um plot da nota média dos jogos publicados por ano nas plataformas Xbox e Playstation 4 usando os dados da IGN para basear a sua resposta.\n",
        "\n",
        "**DICA :** Abaixo vocês podem ver como extrair o histograma do dataset por plataforma."
      ]
    },
    {
      "cell_type": "code",
      "metadata": {
        "id": "dtVHxCrhR0dT",
        "colab_type": "code",
        "outputId": "a7a40e2e-1aab-4520-97b6-8ffa9fb6245e",
        "colab": {
          "base_uri": "https://localhost:8080/",
          "height": 286
        }
      },
      "source": [
        " %matplotlib inline\n",
        " ign[ign[\"platform\"] == \"PlayStation 4\"][\"score\"].plot(kind=\"hist\")"
      ],
      "execution_count": 0,
      "outputs": [
        {
          "output_type": "execute_result",
          "data": {
            "text/plain": [
              "<matplotlib.axes._subplots.AxesSubplot at 0x7f5845989c50>"
            ]
          },
          "metadata": {
            "tags": []
          },
          "execution_count": 16
        },
        {
          "output_type": "display_data",
          "data": {
            "image/png": "[encoded data removed]",
            "text/plain": [
              "<Figure size 432x288 with 1 Axes>"
            ]
          },
          "metadata": {
            "tags": []
          }
        }
      ]
    },
    {
      "cell_type": "code",
      "metadata": {
        "id": "QEj1SVspSRSo",
        "colab_type": "code",
        "outputId": "884a1719-6d09-4a54-9476-237d598e9459",
        "colab": {
          "base_uri": "https://localhost:8080/",
          "height": 286
        }
      },
      "source": [
        " %matplotlib inline\n",
        " ign[ign[\"platform\"] == \"Xbox\"][\"score\"].plot(kind=\"hist\")"
      ],
      "execution_count": 0,
      "outputs": [
        {
          "output_type": "execute_result",
          "data": {
            "text/plain": [
              "<matplotlib.axes._subplots.AxesSubplot at 0x7f584598d710>"
            ]
          },
          "metadata": {
            "tags": []
          },
          "execution_count": 15
        },
        {
          "output_type": "display_data",
          "data": {
            "image/png": "[encoded data removed]",
            "text/plain": [
              "<Figure size 432x288 with 1 Axes>"
            ]
          },
          "metadata": {
            "tags": []
          }
        }
      ]
    },
    {
      "cell_type": "code",
      "metadata": {
        "id": "f4YwLRxRS2V3",
        "colab_type": "code",
        "colab": {}
      },
      "source": [
        " %matplotlib inline\n",
        " # ... Seu código aqui"
      ],
      "execution_count": 0,
      "outputs": []
    },
    {
      "cell_type": "markdown",
      "metadata": {
        "id": "jPyuOA8WTE6n",
        "colab_type": "text"
      },
      "source": [
        "##Ex.2\n",
        "\n",
        "Existe alguma relação entre o mês de lançamento e a nota do jogo em cada plataforma ? Baseie sua resposta em um plot mês a mês da nota média dos jogos por plataforma.\n"
      ]
    },
    {
      "cell_type": "code",
      "metadata": {
        "id": "oVVb7ecmUDl9",
        "colab_type": "code",
        "colab": {}
      },
      "source": [
        " %matplotlib inline\n",
        " # ... Seu código aqui"
      ],
      "execution_count": 0,
      "outputs": []
    },
    {
      "cell_type": "markdown",
      "metadata": {
        "id": "jcuHFlUFUaIb",
        "colab_type": "text"
      },
      "source": [
        "##Ex.3\n",
        "\n",
        "Qual gênero se dá melhor em cada plataforma ?  Baseie sua resposta em um plot da nota média de cada gênero por plataforma."
      ]
    },
    {
      "cell_type": "code",
      "metadata": {
        "id": "E68Mpc0dU1CJ",
        "colab_type": "code",
        "colab": {}
      },
      "source": [
        " %matplotlib inline\n",
        " # ... Seu código aqui"
      ],
      "execution_count": 0,
      "outputs": []
    }
  ]
}
