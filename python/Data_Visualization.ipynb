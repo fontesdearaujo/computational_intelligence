{
  "nbformat": 4,
  "nbformat_minor": 0,
  "metadata": {
    "colab": {
      "name": "Data Visualization.ipynb",
      "provenance": [],
      "include_colab_link": true
    },
    "kernelspec": {
      "name": "python3",
      "display_name": "Python 3"
    }
  },
  "cells": [
    {
      "cell_type": "markdown",
      "metadata": {
        "id": "view-in-github",
        "colab_type": "text"
      },
      "source": [
        "<a href=\"https://colab.research.google.com/github/fontesdearaujo/computational_intelligence/blob/master/Data_Visualization.ipynb\" target=\"_parent\"><img src=\"https://colab.research.google.com/assets/colab-badge.svg\" alt=\"Open In Colab\"/></a>"
      ]
    },
    {
      "cell_type": "code",
      "metadata": {
        "id": "gRHtCXY6eZTQ",
        "colab_type": "code",
        "colab": {}
      },
      "source": [
        "import numpy as np\n",
        "import pandas as pd\n",
        "import matplotlib.pyplot as plt"
      ],
      "execution_count": 0,
      "outputs": []
    },
    {
      "cell_type": "code",
      "metadata": {
        "id": "J6IQUAzTebEB",
        "colab_type": "code",
        "outputId": "07d3833d-ebba-422a-fff9-e9449bda728a",
        "colab": {
          "base_uri": "https://localhost:8080/",
          "height": 202
        }
      },
      "source": [
        "weather = pd.read_csv('https://coded2.herokuapp.com/datavizpandas/london2018.csv')\n",
        "weather.head()"
      ],
      "execution_count": 0,
      "outputs": [
        {
          "output_type": "execute_result",
          "data": {
            "text/html": [
              "<div>\n",
              "<style scoped>\n",
              "    .dataframe tbody tr th:only-of-type {\n",
              "        vertical-align: middle;\n",
              "    }\n",
              "\n",
              "    .dataframe tbody tr th {\n",
              "        vertical-align: top;\n",
              "    }\n",
              "\n",
              "    .dataframe thead th {\n",
              "        text-align: right;\n",
              "    }\n",
              "</style>\n",
              "<table border=\"1\" class=\"dataframe\">\n",
              "  <thead>\n",
              "    <tr style=\"text-align: right;\">\n",
              "      <th></th>\n",
              "      <th>Year</th>\n",
              "      <th>Month</th>\n",
              "      <th>Tmax</th>\n",
              "      <th>Tmin</th>\n",
              "      <th>Rain</th>\n",
              "      <th>Sun</th>\n",
              "    </tr>\n",
              "  </thead>\n",
              "  <tbody>\n",
              "    <tr>\n",
              "      <th>0</th>\n",
              "      <td>2018</td>\n",
              "      <td>1</td>\n",
              "      <td>9.7</td>\n",
              "      <td>3.8</td>\n",
              "      <td>58.0</td>\n",
              "      <td>46.5</td>\n",
              "    </tr>\n",
              "    <tr>\n",
              "      <th>1</th>\n",
              "      <td>2018</td>\n",
              "      <td>2</td>\n",
              "      <td>6.7</td>\n",
              "      <td>0.6</td>\n",
              "      <td>29.0</td>\n",
              "      <td>92.0</td>\n",
              "    </tr>\n",
              "    <tr>\n",
              "      <th>2</th>\n",
              "      <td>2018</td>\n",
              "      <td>3</td>\n",
              "      <td>9.8</td>\n",
              "      <td>3.0</td>\n",
              "      <td>81.2</td>\n",
              "      <td>70.3</td>\n",
              "    </tr>\n",
              "    <tr>\n",
              "      <th>3</th>\n",
              "      <td>2018</td>\n",
              "      <td>4</td>\n",
              "      <td>15.5</td>\n",
              "      <td>7.9</td>\n",
              "      <td>65.2</td>\n",
              "      <td>113.4</td>\n",
              "    </tr>\n",
              "    <tr>\n",
              "      <th>4</th>\n",
              "      <td>2018</td>\n",
              "      <td>5</td>\n",
              "      <td>20.8</td>\n",
              "      <td>9.8</td>\n",
              "      <td>58.4</td>\n",
              "      <td>248.3</td>\n",
              "    </tr>\n",
              "  </tbody>\n",
              "</table>\n",
              "</div>"
            ],
            "text/plain": [
              "   Year  Month  Tmax  Tmin  Rain    Sun\n",
              "0  2018      1   9.7   3.8  58.0   46.5\n",
              "1  2018      2   6.7   0.6  29.0   92.0\n",
              "2  2018      3   9.8   3.0  81.2   70.3\n",
              "3  2018      4  15.5   7.9  65.2  113.4\n",
              "4  2018      5  20.8   9.8  58.4  248.3"
            ]
          },
          "metadata": {
            "tags": []
          },
          "execution_count": 7
        }
      ]
    },
    {
      "cell_type": "markdown",
      "metadata": {
        "id": "3EO0rDJxLRQM",
        "colab_type": "text"
      },
      "source": [
        "In the table you can see that the columns are labelled Year, Month, Tmax (Maximum temperature), Tmin (Minimum temperature), Rain (in inches) and Sun (hours of sunlight).\n",
        "\n",
        "The weather variable is a Pandas dataframe. This is essentially a table, as we saw above, but Pandas provides us with all sorts of functionality associated with the dataframe. One of these functions is the ability to plot a graph. We simply use the code weather.plot() to create a line graph. We need to specify the x and y coordinates, though, and we do this by referencing the column names from the dataframe thus:"
      ]
    },
    {
      "cell_type": "markdown",
      "metadata": {
        "id": "9lBGlsWOL3Yh",
        "colab_type": "text"
      },
      "source": [
        "##Plotting the temperature\n",
        "\n",
        "The weather variable is a Pandas dataframe. This is essentially a table, as we saw above, but Pandas provides us with all sorts of functionality associated with the dataframe. One of these functions is the ability to plot a graph. We simply use the code weather.plot() to create a line graph. We need to specify the x and y coordinates, though, and we do this by referencing the column names from the dataframe thus:"
      ]
    },
    {
      "cell_type": "code",
      "metadata": {
        "id": "DpIOuFA5egn8",
        "colab_type": "code",
        "outputId": "99ab8d81-2d13-41be-b004-c7376e2e5de9",
        "colab": {
          "base_uri": "https://localhost:8080/",
          "height": 301
        }
      },
      "source": [
        "weather.plot(y='Tmax', x='Month')"
      ],
      "execution_count": 0,
      "outputs": [
        {
          "output_type": "execute_result",
          "data": {
            "text/plain": [
              "<matplotlib.axes._subplots.AxesSubplot at 0x7f5d02ed9828>"
            ]
          },
          "metadata": {
            "tags": []
          },
          "execution_count": 8
        },
        {
          "output_type": "display_data",
          "data": {
            "image/png": "[encoded data removed]",
            "text/plain": [
              "<Figure size 432x288 with 1 Axes>"
            ]
          },
          "metadata": {
            "tags": []
          }
        }
      ]
    },
    {
      "cell_type": "markdown",
      "metadata": {
        "id": "LXmbSK2oLpoT",
        "colab_type": "text"
      },
      "source": [
        "You can see that, when you run this cell, it gives you a simple line plot of the maximun temperature over the 12 month period.\n",
        "To plot both maximum and minimum temperatures, we give two column names enclosed within square brackets and separated by a comma, like this:"
      ]
    },
    {
      "cell_type": "code",
      "metadata": {
        "id": "GF77zw7LemVj",
        "colab_type": "code",
        "outputId": "3f45b98a-bd84-4299-fa47-b0dc69ea9b91",
        "colab": {
          "base_uri": "https://localhost:8080/",
          "height": 301
        }
      },
      "source": [
        "weather.plot(y=['Tmax','Tmin'], x='Month')"
      ],
      "execution_count": 0,
      "outputs": [
        {
          "output_type": "execute_result",
          "data": {
            "text/plain": [
              "<matplotlib.axes._subplots.AxesSubplot at 0x7f5d02e102b0>"
            ]
          },
          "metadata": {
            "tags": []
          },
          "execution_count": 9
        },
        {
          "output_type": "display_data",
          "data": {
            "image/png": "[encoded data removed]",
            "text/plain": [
              "<Figure size 432x288 with 1 Axes>"
            ]
          },
          "metadata": {
            "tags": []
          }
        }
      ]
    },
    {
      "cell_type": "markdown",
      "metadata": {
        "id": "wi5saL57Lyr4",
        "colab_type": "text"
      },
      "source": [
        "##Bar Charts\n",
        "To draw a bar chart of the same data as above, we add the text .bar to the plot function. Like this:"
      ]
    },
    {
      "cell_type": "code",
      "metadata": {
        "id": "AOVNUZF-LE9g",
        "colab_type": "code",
        "outputId": "7229c706-18f8-410d-9a20-668a184ce052",
        "colab": {
          "base_uri": "https://localhost:8080/",
          "height": 303
        }
      },
      "source": [
        "weather.plot.bar(y='Tmax', x='Month')"
      ],
      "execution_count": 0,
      "outputs": [
        {
          "output_type": "execute_result",
          "data": {
            "text/plain": [
              "<matplotlib.axes._subplots.AxesSubplot at 0x7f5d02df9cc0>"
            ]
          },
          "metadata": {
            "tags": []
          },
          "execution_count": 10
        },
        {
          "output_type": "display_data",
          "data": {
            "image/png": "[encoded data removed]",
            "text/plain": [
              "<Figure size 432x288 with 1 Axes>"
            ]
          },
          "metadata": {
            "tags": []
          }
        }
      ]
    },
    {
      "cell_type": "markdown",
      "metadata": {
        "id": "Sc1v4oi7MJ80",
        "colab_type": "text"
      },
      "source": [
        "And if we prefer horizontal bars we use the barh version."
      ]
    },
    {
      "cell_type": "code",
      "metadata": {
        "id": "IIHtTx9bLGey",
        "colab_type": "code",
        "outputId": "a35d71b5-7e14-41b3-fd3d-6cfe431700fc",
        "colab": {
          "base_uri": "https://localhost:8080/",
          "height": 287
        }
      },
      "source": [
        "weather.plot.barh(y='Tmax', x='Month')"
      ],
      "execution_count": 0,
      "outputs": [
        {
          "output_type": "execute_result",
          "data": {
            "text/plain": [
              "<matplotlib.axes._subplots.AxesSubplot at 0x7f5d02df96d8>"
            ]
          },
          "metadata": {
            "tags": []
          },
          "execution_count": 11
        },
        {
          "output_type": "display_data",
          "data": {
            "image/png": "[encoded data removed]",
            "text/plain": [
              "<Figure size 432x288 with 1 Axes>"
            ]
          },
          "metadata": {
            "tags": []
          }
        }
      ]
    },
    {
      "cell_type": "markdown",
      "metadata": {
        "id": "92vwYtvtMNWU",
        "colab_type": "text"
      },
      "source": [
        "Plotting two sets of data (Tmax and Tmin) in a bar chart is similar to what we saw above with the line chart:"
      ]
    },
    {
      "cell_type": "code",
      "metadata": {
        "id": "_zReLV3WMQHn",
        "colab_type": "code",
        "outputId": "1ab6f1d4-a42d-498e-e3fb-76e109f18dee",
        "colab": {
          "base_uri": "https://localhost:8080/",
          "height": 303
        }
      },
      "source": [
        "weather.plot.bar(y=['Tmax','Tmin'], x='Month')"
      ],
      "execution_count": 0,
      "outputs": [
        {
          "output_type": "execute_result",
          "data": {
            "text/plain": [
              "<matplotlib.axes._subplots.AxesSubplot at 0x7f5d02d70160>"
            ]
          },
          "metadata": {
            "tags": []
          },
          "execution_count": 12
        },
        {
          "output_type": "display_data",
          "data": {
            "image/png": "[encoded data removed]",
            "text/plain": [
              "<Figure size 432x288 with 1 Axes>"
            ]
          },
          "metadata": {
            "tags": []
          }
        }
      ]
    },
    {
      "cell_type": "markdown",
      "metadata": {
        "id": "vOQGRLVSMXym",
        "colab_type": "text"
      },
      "source": [
        "##Multiple charts\n",
        "If we want to create a set of separate charts for each type of data, we can. We set the x and y values as usual but, in addition, we specifiy a parameter subplots as being True (the default is False) and, if we wish, we can set the layout as you see below."
      ]
    },
    {
      "cell_type": "code",
      "metadata": {
        "id": "4ivZ_CMwMVXY",
        "colab_type": "code",
        "outputId": "49ea3533-0f27-4bc0-b267-1868ebeafcb8",
        "colab": {
          "base_uri": "https://localhost:8080/",
          "height": 385
        }
      },
      "source": [
        "weather.plot.bar(y=['Tmax','Tmin','Rain','Sun'], x='Month', subplots=True, layout=(2,2))"
      ],
      "execution_count": 0,
      "outputs": [
        {
          "output_type": "execute_result",
          "data": {
            "text/plain": [
              "array([[<matplotlib.axes._subplots.AxesSubplot object at 0x7f5d02760e48>,\n",
              "        <matplotlib.axes._subplots.AxesSubplot object at 0x7f5d026dcfd0>],\n",
              "       [<matplotlib.axes._subplots.AxesSubplot object at 0x7f5d0270a470>,\n",
              "        <matplotlib.axes._subplots.AxesSubplot object at 0x7f5d026b28d0>]],\n",
              "      dtype=object)"
            ]
          },
          "metadata": {
            "tags": []
          },
          "execution_count": 19
        },
        {
          "output_type": "display_data",
          "data": {
            "image/png": "[encoded data removed]",
            "text/plain": [
              "<Figure size 432x288 with 4 Axes>"
            ]
          },
          "metadata": {
            "tags": []
          }
        }
      ]
    },
    {
      "cell_type": "markdown",
      "metadata": {
        "id": "gYAo7mZhMiEW",
        "colab_type": "text"
      },
      "source": [
        "We can do this with any type of chart. Here’s the same thing but as a set of line graphs."
      ]
    },
    {
      "cell_type": "code",
      "metadata": {
        "id": "u2bsljEnMfhc",
        "colab_type": "code",
        "outputId": "99cab7d5-1068-4594-840b-5e13e45adcbf",
        "colab": {
          "base_uri": "https://localhost:8080/",
          "height": 358
        }
      },
      "source": [
        "weather.plot(y=['Tmax','Tmin','Rain','Sun'], x='Month', subplots=True, layout=(2,2))"
      ],
      "execution_count": 0,
      "outputs": [
        {
          "output_type": "execute_result",
          "data": {
            "text/plain": [
              "array([[<matplotlib.axes._subplots.AxesSubplot object at 0x7f5d02646f60>,\n",
              "        <matplotlib.axes._subplots.AxesSubplot object at 0x7f5d024ff2e8>],\n",
              "       [<matplotlib.axes._subplots.AxesSubplot object at 0x7f5d024a4748>,\n",
              "        <matplotlib.axes._subplots.AxesSubplot object at 0x7f5d0244dba8>]],\n",
              "      dtype=object)"
            ]
          },
          "metadata": {
            "tags": []
          },
          "execution_count": 20
        },
        {
          "output_type": "display_data",
          "data": {
            "image/png": "[encoded data removed]",
            "text/plain": [
              "<Figure size 432x288 with 4 Axes>"
            ]
          },
          "metadata": {
            "tags": []
          }
        }
      ]
    },
    {
      "cell_type": "markdown",
      "metadata": {
        "id": "kIYoUHulMyH-",
        "colab_type": "text"
      },
      "source": [
        "##Scatter Plot\n",
        "A scatter plot plots a series of points that correspond to two variables and allows us to determine if there is a relationship between them. The one below plots Sun and Rain. There are 12 points, one for each row in the table, and the points plot the value of Rain on the vertical axis against Sun on the horizontal one.\n",
        "It’s not particularly clear but you can see a vague linear relationship. A straight line that was the best fit through the twelve points would start somewhere high up on the left and end up low on the right. That tells us that when Rain has a high level, Sun has a low one, and vice versa. Which common sense tells us is probably right — there is, generally speaking, an inverse relationship between the amount of sun and the amount of rain."
      ]
    },
    {
      "cell_type": "code",
      "metadata": {
        "id": "4F37XAJxMzOC",
        "colab_type": "code",
        "outputId": "31ab63bf-3b3d-4419-f183-e4b65e71733c",
        "colab": {
          "base_uri": "https://localhost:8080/",
          "height": 301
        }
      },
      "source": [
        "weather.plot.scatter(x='Sun', y='Rain')"
      ],
      "execution_count": 0,
      "outputs": [
        {
          "output_type": "execute_result",
          "data": {
            "text/plain": [
              "<matplotlib.axes._subplots.AxesSubplot at 0x7fec40b244a8>"
            ]
          },
          "metadata": {
            "tags": []
          },
          "execution_count": 15
        },
        {
          "output_type": "display_data",
          "data": {
            "image/png": "[encoded data removed]",
            "text/plain": [
              "<Figure size 432x288 with 1 Axes>"
            ]
          },
          "metadata": {
            "tags": []
          }
        }
      ]
    },
    {
      "cell_type": "markdown",
      "metadata": {
        "id": "adEpEqYZM41v",
        "colab_type": "text"
      },
      "source": [
        "##Pie Charts\n",
        "Pie charts are the last type we are going to deal with here. But since the weather data doesn’t really lend itself to representation in a pie chart, we’ll load some more data that represents peoples choices for meals (yes, you’re right, I made it up!)."
      ]
    },
    {
      "cell_type": "code",
      "metadata": {
        "id": "zs86pp-xM6nE",
        "colab_type": "code",
        "outputId": "2e300b2f-173d-45fa-a114-ee76e011ebe9",
        "colab": {
          "base_uri": "https://localhost:8080/",
          "height": 141
        }
      },
      "source": [
        "meals = pd.read_csv('https://coded2.herokuapp.com/datavizpandas/meals2.csv', index_col = 0)\n",
        "meals"
      ],
      "execution_count": 0,
      "outputs": [
        {
          "output_type": "execute_result",
          "data": {
            "text/html": [
              "<div>\n",
              "<style scoped>\n",
              "    .dataframe tbody tr th:only-of-type {\n",
              "        vertical-align: middle;\n",
              "    }\n",
              "\n",
              "    .dataframe tbody tr th {\n",
              "        vertical-align: top;\n",
              "    }\n",
              "\n",
              "    .dataframe thead th {\n",
              "        text-align: right;\n",
              "    }\n",
              "</style>\n",
              "<table border=\"1\" class=\"dataframe\">\n",
              "  <thead>\n",
              "    <tr style=\"text-align: right;\">\n",
              "      <th></th>\n",
              "      <th>lunch</th>\n",
              "      <th>dinner</th>\n",
              "    </tr>\n",
              "  </thead>\n",
              "  <tbody>\n",
              "    <tr>\n",
              "      <th>Pizza</th>\n",
              "      <td>10</td>\n",
              "      <td>17</td>\n",
              "    </tr>\n",
              "    <tr>\n",
              "      <th>Hamburger</th>\n",
              "      <td>15</td>\n",
              "      <td>6</td>\n",
              "    </tr>\n",
              "    <tr>\n",
              "      <th>Curry</th>\n",
              "      <td>5</td>\n",
              "      <td>7</td>\n",
              "    </tr>\n",
              "  </tbody>\n",
              "</table>\n",
              "</div>"
            ],
            "text/plain": [
              "           lunch  dinner\n",
              "Pizza         10      17\n",
              "Hamburger     15       6\n",
              "Curry          5       7"
            ]
          },
          "metadata": {
            "tags": []
          },
          "execution_count": 21
        }
      ]
    },
    {
      "cell_type": "markdown",
      "metadata": {
        "id": "r8zzmNUENCcs",
        "colab_type": "text"
      },
      "source": [
        "One thing to notice here is that you need to specify the index for the pie chart — that’s the labels of the data to be plotted. In this case it’s in column 0, the one that contains the labels for the different meals.\n"
      ]
    },
    {
      "cell_type": "code",
      "metadata": {
        "id": "zRx1HaEANBwT",
        "colab_type": "code",
        "outputId": "5e851acb-1422-4e25-b600-a2d9f998bfec",
        "colab": {
          "base_uri": "https://localhost:8080/",
          "height": 242
        }
      },
      "source": [
        "meals.plot.pie(subplots=True)"
      ],
      "execution_count": 0,
      "outputs": [
        {
          "output_type": "execute_result",
          "data": {
            "text/plain": [
              "array([<matplotlib.axes._subplots.AxesSubplot object at 0x7fec40818978>,\n",
              "       <matplotlib.axes._subplots.AxesSubplot object at 0x7fec40844c50>],\n",
              "      dtype=object)"
            ]
          },
          "metadata": {
            "tags": []
          },
          "execution_count": 18
        },
        {
          "output_type": "display_data",
          "data": {
            "image/png": "[encoded data removed]",
            "text/plain": [
              "<Figure size 432x288 with 2 Axes>"
            ]
          },
          "metadata": {
            "tags": []
          }
        }
      ]
    },
    {
      "cell_type": "markdown",
      "metadata": {
        "id": "lOxFG3E_NHZ3",
        "colab_type": "text"
      },
      "source": [
        "##Saving the Charts\n",
        "This is all very well but maybe you want to be able to use the charts that you produce. If you want to use them in a presentation or document, then it would be useful to be able to export them as image files that you can include in another file.\n",
        "The simple way of saving the images is like this:"
      ]
    },
    {
      "cell_type": "code",
      "metadata": {
        "id": "H0lVutONNEdx",
        "colab_type": "code",
        "outputId": "86b8b882-f7ed-4e92-c603-ed74a20d6f3e",
        "colab": {
          "base_uri": "https://localhost:8080/",
          "height": 190
        }
      },
      "source": [
        "meals.plot.pie(subplots=True)\n",
        "plt.savefig('pie.png')"
      ],
      "execution_count": 0,
      "outputs": [
        {
          "output_type": "display_data",
          "data": {
            "image/png": "[encoded data removed]",
            "text/plain": [
              "<Figure size 432x288 with 2 Axes>"
            ]
          },
          "metadata": {
            "tags": []
          }
        }
      ]
    },
    {
      "cell_type": "markdown",
      "metadata": {
        "id": "mDnAxXxCOQK1",
        "colab_type": "text"
      },
      "source": [
        "The variable plt is created when you plot a graph and it has a function called savefig which is used to save the image. You can see that the name of the file is specified inside the brackets and in this case it will save to a file called “pie.png” in the same directory as the notebook."
      ]
    },
    {
      "cell_type": "code",
      "metadata": {
        "id": "T2usFOi0NL2E",
        "colab_type": "code",
        "outputId": "422e4b56-19d2-463e-a605-119b5c46fa2b",
        "colab": {
          "base_uri": "https://localhost:8080/",
          "height": 35
        }
      },
      "source": [
        "!ls\n",
        "from google.colab import files\n",
        "files.download('pie.png')"
      ],
      "execution_count": 0,
      "outputs": [
        {
          "output_type": "stream",
          "text": [
            "pie.png  sample_data\n"
          ],
          "name": "stdout"
        }
      ]
    },
    {
      "cell_type": "markdown",
      "metadata": {
        "id": "k9a1ubBdOSiD",
        "colab_type": "text"
      },
      "source": [
        "##Algumas modificações foram feitas a partir da fonte: https://towardsdatascience.com/simple-data-visualisation-with-pandas-7a7a035bdc39 "
      ]
    },
    {
      "cell_type": "code",
      "metadata": {
        "id": "wwXsizf_OYdD",
        "colab_type": "code",
        "colab": {}
      },
      "source": [
        ""
      ],
      "execution_count": 0,
      "outputs": []
    }
  ]
}
